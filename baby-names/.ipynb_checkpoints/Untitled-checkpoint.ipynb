{
 "cells": [
  {
   "cell_type": "code",
   "execution_count": 95,
   "metadata": {},
   "outputs": [],
   "source": [
    "static = spark.read.csv(\"InputStream/*.csv\", header = True)\n",
    "dataSchema = static.schema"
   ]
  },
  {
   "cell_type": "code",
   "execution_count": 96,
   "metadata": {},
   "outputs": [
    {
     "name": "stdout",
     "output_type": "stream",
     "text": [
      "root\n",
      " |-- state: string (nullable = true)\n",
      " |-- sex: string (nullable = true)\n",
      " |-- year: string (nullable = true)\n",
      " |-- name: string (nullable = true)\n",
      " |-- count: string (nullable = true)\n",
      "\n"
     ]
    }
   ],
   "source": [
    "static.printSchema()"
   ]
  },
  {
   "cell_type": "code",
   "execution_count": 97,
   "metadata": {},
   "outputs": [],
   "source": [
    "streaming = spark.readStream.schema(dataSchema).option(\"maxFilesPerTrigger\", 1).csv(\"InputStream\")"
   ]
  },
  {
   "cell_type": "code",
   "execution_count": 98,
   "metadata": {},
   "outputs": [],
   "source": [
    "activityCounts = streaming.groupBy(\"sex\").count()"
   ]
  },
  {
   "cell_type": "code",
   "execution_count": 99,
   "metadata": {},
   "outputs": [
    {
     "data": {
      "text/plain": [
       "DataFrame[sex: string, count: bigint]"
      ]
     },
     "execution_count": 99,
     "metadata": {},
     "output_type": "execute_result"
    }
   ],
   "source": [
    "activityCounts"
   ]
  },
  {
   "cell_type": "code",
   "execution_count": 100,
   "metadata": {},
   "outputs": [],
   "source": [
    "spark.conf.set(\"spark.sql.shuffle.partitions\", 5)"
   ]
  },
  {
   "cell_type": "code",
   "execution_count": 101,
   "metadata": {},
   "outputs": [],
   "source": [
    "# stop stream\n",
    "activityQuery.stop()"
   ]
  },
  {
   "cell_type": "code",
   "execution_count": 102,
   "metadata": {},
   "outputs": [],
   "source": [
    "activityQuery = activityCounts.writeStream.queryName(\"activity_counts\").format(\"memory\").outputMode(\"complete\").start()"
   ]
  },
  {
   "cell_type": "code",
   "execution_count": 103,
   "metadata": {},
   "outputs": [
    {
     "data": {
      "text/plain": [
       "[<pyspark.sql.streaming.StreamingQuery at 0x11014c898>]"
      ]
     },
     "execution_count": 103,
     "metadata": {},
     "output_type": "execute_result"
    }
   ],
   "source": [
    "spark.streams.active"
   ]
  },
  {
   "cell_type": "code",
   "execution_count": 104,
   "metadata": {},
   "outputs": [
    {
     "name": "stdout",
     "output_type": "stream",
     "text": [
      "+---+------+\n",
      "|sex| count|\n",
      "+---+------+\n",
      "|sex|     6|\n",
      "|  F|200531|\n",
      "|  M|159469|\n",
      "+---+------+\n",
      "\n",
      "+---+------+\n",
      "|sex| count|\n",
      "+---+------+\n",
      "|sex|     6|\n",
      "|  F|200531|\n",
      "|  M|159469|\n",
      "+---+------+\n",
      "\n"
     ]
    }
   ],
   "source": [
    "# in Python\n",
    "from time import sleep\n",
    "for x in range(2):\n",
    "    spark.sql(\"SELECT * FROM activity_counts\").show()\n",
    "    sleep(1)"
   ]
  },
  {
   "cell_type": "code",
   "execution_count": 49,
   "metadata": {},
   "outputs": [],
   "source": [
    "import shutil\n",
    "import glob"
   ]
  },
  {
   "cell_type": "code",
   "execution_count": 105,
   "metadata": {},
   "outputs": [
    {
     "name": "stdout",
     "output_type": "stream",
     "text": [
      "9\n",
      "+---+-----+\n",
      "|sex|count|\n",
      "+---+-----+\n",
      "+---+-----+\n",
      "\n",
      "+---+-----+\n",
      "|sex|count|\n",
      "+---+-----+\n",
      "+---+-----+\n",
      "\n",
      "+---+-----+\n",
      "|sex|count|\n",
      "+---+-----+\n",
      "+---+-----+\n",
      "\n",
      "+---+-----+\n",
      "|sex|count|\n",
      "+---+-----+\n",
      "+---+-----+\n",
      "\n",
      "+---+-----+\n",
      "|sex|count|\n",
      "+---+-----+\n",
      "+---+-----+\n",
      "\n"
     ]
    }
   ],
   "source": [
    "path = 'streaming'\n",
    "\n",
    "files = [f for f in glob.glob(path + \"**/*.csv\", recursive=True)]\n",
    "\n",
    "for i in range(len(files[0:5])):\n",
    "    activityQuery.stop()\n",
    "    new_path = shutil.copy(files[i], 'InputStream')\n",
    "    sleep(2)\n",
    "    static = spark.read.csv(\"InputStream/*.csv\", header = True)\n",
    "    dataSchema = static.schema\n",
    "    streaming = spark.readStream.schema(dataSchema).option(\"maxFilesPerTrigger\", 1).csv(\"InputStream\")\n",
    "    activityCounts = streaming.groupBy(\"sex\").count()\n",
    "    spark.conf.set(\"spark.sql.shuffle.partitions\", 5)\n",
    "    activityQuery = activityCounts.writeStream.queryName(\"activity_counts\").format(\"memory\").outputMode(\"complete\").start()\n",
    "    spark.streams.active\n",
    "    spark.sql(\"SELECT * FROM activity_counts\").show()\n",
    "    sleep(2)"
   ]
  },
  {
   "cell_type": "code",
   "execution_count": null,
   "metadata": {},
   "outputs": [],
   "source": [
    "path = 'streaming'\n",
    "\n",
    "files = [f for f in glob.glob(path + \"**/*.csv\", recursive=True)]\n",
    "\n",
    "for f in files[1:11]:\n",
    "    activityQuery.stop()\n",
    "    new_path = shutil.copy(f, 'InputStream')\n",
    "    sleep(2)\n",
    "    static = spark.read.csv(\"InputStream/*.csv\", header = True)\n",
    "    dataSchema = static.schema\n",
    "    streaming = spark.readStream.schema(dataSchema).option(\"maxFilesPerTrigger\", 1).csv(\"InputStream\")\n",
    "    # check count\n",
    "    activityCounts = streaming.groupBy(\"sex\").count()\n",
    "    activityQuery = activityCounts.writeStream.queryName(\"activity_counts\").format(\"memory\").outputMode(\"complete\").start()\n",
    "    spark.sql(\"SELECT * FROM activity_counts\").show()\n",
    "    sleep(2)"
   ]
  },
  {
   "cell_type": "code",
   "execution_count": 112,
   "metadata": {},
   "outputs": [
    {
     "name": "stdout",
     "output_type": "stream",
     "text": [
      "+---+-----+\n",
      "|sex|count|\n",
      "+---+-----+\n",
      "+---+-----+\n",
      "\n"
     ]
    }
   ],
   "source": [
    "activityQuery.stop()\n",
    "new_path = shutil.copy(files[2], 'InputStream')\n",
    "sleep(2)\n",
    "static = spark.read.csv(\"InputStream/*.csv\", header = True)\n",
    "dataSchema = static.schema\n",
    "streaming = spark.readStream.schema(dataSchema).option(\"maxFilesPerTrigger\", 1).csv(\"InputStream\")\n",
    "activityCounts = streaming.groupBy(\"sex\").count()\n",
    "spark.conf.set(\"spark.sql.shuffle.partitions\", 5)\n",
    "activityQuery = activityCounts.writeStream.queryName(\"activity_counts\").format(\"memory\").outputMode(\"complete\").start()\n",
    "spark.streams.active\n",
    "spark.sql(\"SELECT * FROM activity_counts\").show()\n",
    "sleep(2)"
   ]
  },
  {
   "cell_type": "code",
   "execution_count": null,
   "metadata": {},
   "outputs": [],
   "source": []
  }
 ],
 "metadata": {
  "kernelspec": {
   "display_name": "Python 3",
   "language": "python",
   "name": "python3"
  },
  "language_info": {
   "codemirror_mode": {
    "name": "ipython",
    "version": 3
   },
   "file_extension": ".py",
   "mimetype": "text/x-python",
   "name": "python",
   "nbconvert_exporter": "python",
   "pygments_lexer": "ipython3",
   "version": "3.6.5"
  }
 },
 "nbformat": 4,
 "nbformat_minor": 2
}
