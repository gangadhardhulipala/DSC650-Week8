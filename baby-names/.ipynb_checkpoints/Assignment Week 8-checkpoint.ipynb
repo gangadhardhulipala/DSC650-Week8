{
 "cells": [
  {
   "cell_type": "markdown",
   "metadata": {},
   "source": [
    "# Assignment 8.2 "
   ]
  },
  {
   "cell_type": "markdown",
   "metadata": {},
   "source": [
    "## Question 1"
   ]
  },
  {
   "cell_type": "code",
   "execution_count": 1,
   "metadata": {},
   "outputs": [],
   "source": [
    "# Importing the libraries necessary for copying files and also create a path\n",
    "\n",
    "import shutil\n",
    "import glob\n",
    "from time import sleep"
   ]
  },
  {
   "cell_type": "code",
   "execution_count": 4,
   "metadata": {},
   "outputs": [],
   "source": [
    "# Reading the csv file\n",
    "\n",
    "static = spark.read.csv(\"streaming/*.csv\", header = True)\n",
    "dataSchema = static.schema"
   ]
  },
  {
   "cell_type": "code",
   "execution_count": 5,
   "metadata": {},
   "outputs": [
    {
     "name": "stdout",
     "output_type": "stream",
     "text": [
      "root\n",
      " |-- state: string (nullable = true)\n",
      " |-- sex: string (nullable = true)\n",
      " |-- year: string (nullable = true)\n",
      " |-- name: string (nullable = true)\n",
      " |-- count: string (nullable = true)\n",
      "\n"
     ]
    }
   ],
   "source": [
    "# Getting the schema of the file\n",
    "\n",
    "static.printSchema()"
   ]
  },
  {
   "cell_type": "code",
   "execution_count": 6,
   "metadata": {},
   "outputs": [],
   "source": [
    "# Streaming the dataframes\n",
    "\n",
    "streaming = spark.readStream.schema(dataSchema).option(\"maxFilesPerTrigger\", 1).csv(\"streaming\")"
   ]
  },
  {
   "cell_type": "code",
   "execution_count": 7,
   "metadata": {},
   "outputs": [],
   "source": [
    "# Performing the transformations - in this case grouping the data by sex\n",
    "\n",
    "activityCounts = streaming.groupBy(\"sex\").count()"
   ]
  },
  {
   "cell_type": "code",
   "execution_count": 8,
   "metadata": {},
   "outputs": [
    {
     "data": {
      "text/plain": [
       "DataFrame[sex: string, count: bigint]"
      ]
     },
     "execution_count": 8,
     "metadata": {},
     "output_type": "execute_result"
    }
   ],
   "source": [
    "# Data Types of the columns\n",
    "\n",
    "activityCounts"
   ]
  },
  {
   "cell_type": "code",
   "execution_count": 9,
   "metadata": {},
   "outputs": [],
   "source": [
    "# Mimicing a cluster environment\n",
    "\n",
    "spark.conf.set(\"spark.sql.shuffle.partitions\", 5)"
   ]
  },
  {
   "cell_type": "code",
   "execution_count": 10,
   "metadata": {},
   "outputs": [],
   "source": [
    "# stop stream\n",
    "activityQuery.stop()"
   ]
  },
  {
   "cell_type": "code",
   "execution_count": 11,
   "metadata": {},
   "outputs": [],
   "source": [
    "# Starting the stream\n",
    "\n",
    "activityQuery = activityCounts.writeStream.queryName(\"activity_counts\").format(\"memory\").outputMode(\"complete\").start()"
   ]
  },
  {
   "cell_type": "code",
   "execution_count": 12,
   "metadata": {},
   "outputs": [
    {
     "data": {
      "text/plain": [
       "[<pyspark.sql.streaming.StreamingQuery at 0x10ba4cda0>]"
      ]
     },
     "execution_count": 12,
     "metadata": {},
     "output_type": "execute_result"
    }
   ],
   "source": [
    "# Checking the active stream\n",
    "\n",
    "spark.streams.active"
   ]
  },
  {
   "cell_type": "code",
   "execution_count": 13,
   "metadata": {},
   "outputs": [
    {
     "name": "stdout",
     "output_type": "stream",
     "text": [
      "+---+-------+\n",
      "|sex|  count|\n",
      "+---+-------+\n",
      "|sex|     91|\n",
      "|  F|3044640|\n",
      "|  M|2415360|\n",
      "+---+-------+\n",
      "\n",
      "+---+-------+\n",
      "|sex|  count|\n",
      "+---+-------+\n",
      "|sex|     94|\n",
      "|  F|3145284|\n",
      "|  M|2494716|\n",
      "+---+-------+\n",
      "\n",
      "+---+-------+\n",
      "|sex|  count|\n",
      "+---+-------+\n",
      "|sex|     97|\n",
      "|  F|3245700|\n",
      "|  M|2574300|\n",
      "+---+-------+\n",
      "\n",
      "+---+-------+\n",
      "|sex|  count|\n",
      "+---+-------+\n",
      "|sex|     98|\n",
      "|  F|3279259|\n",
      "|  M|2600741|\n",
      "+---+-------+\n",
      "\n",
      "+---+-------+\n",
      "|sex|  count|\n",
      "+---+-------+\n",
      "|sex|     98|\n",
      "|  F|3279259|\n",
      "|  M|2600741|\n",
      "+---+-------+\n",
      "\n",
      "+---+-------+\n",
      "|sex|  count|\n",
      "+---+-------+\n",
      "|sex|     98|\n",
      "|  F|3279259|\n",
      "|  M|2600741|\n",
      "+---+-------+\n",
      "\n",
      "+---+-------+\n",
      "|sex|  count|\n",
      "+---+-------+\n",
      "|sex|     98|\n",
      "|  F|3279259|\n",
      "|  M|2600741|\n",
      "+---+-------+\n",
      "\n",
      "+---+-------+\n",
      "|sex|  count|\n",
      "+---+-------+\n",
      "|sex|     98|\n",
      "|  F|3279259|\n",
      "|  M|2600741|\n",
      "+---+-------+\n",
      "\n",
      "+---+-------+\n",
      "|sex|  count|\n",
      "+---+-------+\n",
      "|sex|     98|\n",
      "|  F|3279259|\n",
      "|  M|2600741|\n",
      "+---+-------+\n",
      "\n",
      "+---+-------+\n",
      "|sex|  count|\n",
      "+---+-------+\n",
      "|sex|     98|\n",
      "|  F|3279259|\n",
      "|  M|2600741|\n",
      "+---+-------+\n",
      "\n"
     ]
    }
   ],
   "source": [
    "# Generating the output\n",
    "\n",
    "from time import sleep\n",
    "for x in range(10):\n",
    "    spark.sql(\"SELECT * FROM activity_counts\").show()\n",
    "    sleep(1)"
   ]
  },
  {
   "cell_type": "code",
   "execution_count": null,
   "metadata": {},
   "outputs": [],
   "source": [
    "# Creating a streaming data workflow to mimic input stream\n",
    "\n",
    "# Initial Path\n",
    "path = 'streaming'\n",
    "\n",
    "# Getting the list of files from the source path\n",
    "files = [f for f in glob.glob(path + \"**/*.csv\", recursive=True)]\n",
    "\n",
    "# Looping through the first five files from the \n",
    "for i in range(5):\n",
    "    activityQuery.stop()\n",
    "    # Copying the first 5 files into the InputStream Directory\n",
    "    new_path = shutil.copy(files[i], 'InputStream')\n",
    "    # Sleep time\n",
    "    sleep(2)\n",
    "    # Reading the CSV\n",
    "    static = spark.read.csv(\"InputStream/*.csv\", header = True)\n",
    "    # Printing the Schema\n",
    "    dataSchema = static.schema\n",
    "    # Start the Streaming\n",
    "    streaming = spark.readStream.schema(dataSchema).option(\"maxFilesPerTrigger\", 1).csv(\"InputStream\")\n",
    "    # Getting the transformation\n",
    "    activityCounts = streaming.groupBy(\"sex\").count()\n",
    "    # Mimicing the cluster environment\n",
    "    spark.conf.set(\"spark.sql.shuffle.partitions\", 5)\n",
    "    activityQuery = activityCounts.writeStream.queryName(\"activity_counts\").format(\"memory\").outputMode(\"complete\").start()\n",
    "    spark.streams.active\n",
    "    # Selecting the data and displaying the table\n",
    "    spark.sql(\"SELECT * FROM activity_counts\").show()\n",
    "    sleep(2)"
   ]
  },
  {
   "cell_type": "code",
   "execution_count": 21,
   "metadata": {},
   "outputs": [
    {
     "name": "stdout",
     "output_type": "stream",
     "text": [
      "+---+-------+\n",
      "|sex|  count|\n",
      "+---+-------+\n",
      "|sex|     98|\n",
      "|  F|3279259|\n",
      "|  M|2600741|\n",
      "+---+-------+\n",
      "\n",
      "+---+-------+\n",
      "|sex|  count|\n",
      "+---+-------+\n",
      "|sex|     98|\n",
      "|  F|3279259|\n",
      "|  M|2600741|\n",
      "+---+-------+\n",
      "\n",
      "+---+-------+\n",
      "|sex|  count|\n",
      "+---+-------+\n",
      "|sex|     98|\n",
      "|  F|3279259|\n",
      "|  M|2600741|\n",
      "+---+-------+\n",
      "\n",
      "+---+-------+\n",
      "|sex|  count|\n",
      "+---+-------+\n",
      "|sex|     98|\n",
      "|  F|3279259|\n",
      "|  M|2600741|\n",
      "+---+-------+\n",
      "\n",
      "+---+-------+\n",
      "|sex|  count|\n",
      "+---+-------+\n",
      "|sex|     98|\n",
      "|  F|3279259|\n",
      "|  M|2600741|\n",
      "+---+-------+\n",
      "\n",
      "+---+-------+\n",
      "|sex|  count|\n",
      "+---+-------+\n",
      "|sex|     98|\n",
      "|  F|3279259|\n",
      "|  M|2600741|\n",
      "+---+-------+\n",
      "\n",
      "+---+-------+\n",
      "|sex|  count|\n",
      "+---+-------+\n",
      "|sex|     98|\n",
      "|  F|3279259|\n",
      "|  M|2600741|\n",
      "+---+-------+\n",
      "\n",
      "+---+-------+\n",
      "|sex|  count|\n",
      "+---+-------+\n",
      "|sex|     98|\n",
      "|  F|3279259|\n",
      "|  M|2600741|\n",
      "+---+-------+\n",
      "\n",
      "+---+-------+\n",
      "|sex|  count|\n",
      "+---+-------+\n",
      "|sex|     98|\n",
      "|  F|3279259|\n",
      "|  M|2600741|\n",
      "+---+-------+\n",
      "\n",
      "+---+-------+\n",
      "|sex|  count|\n",
      "+---+-------+\n",
      "|sex|     98|\n",
      "|  F|3279259|\n",
      "|  M|2600741|\n",
      "+---+-------+\n",
      "\n"
     ]
    }
   ],
   "source": [
    "for x in range(10):\n",
    "    spark.sql(\"SELECT * FROM activity_counts\").show()\n",
    "    sleep(1)"
   ]
  },
  {
   "cell_type": "markdown",
   "metadata": {},
   "source": [
    "## Question 2"
   ]
  },
  {
   "cell_type": "code",
   "execution_count": 18,
   "metadata": {},
   "outputs": [
    {
     "data": {
      "text/plain": [
       "DataFrame[sex: string, count: bigint]"
      ]
     },
     "execution_count": 18,
     "metadata": {},
     "output_type": "execute_result"
    }
   ],
   "source": [
    "# transform and read stream from input directory\n",
    "stream = spark.readStream.schema(dataSchema).csv('streaming')  \n",
    "counts = stream.groupBy(\"sex\").count()\n",
    "\n",
    "# get count of females\n",
    "counts.select(\"sex\").where(\"sex = 'F'\")\n",
    "counts.groupby(\"sex\").count()"
   ]
  },
  {
   "cell_type": "code",
   "execution_count": 19,
   "metadata": {},
   "outputs": [],
   "source": [
    "# Triggering the stream in batches every 60 seconds\n",
    "\n",
    "batch = batch_counts.writeStream.trigger(processingTime = '60 seconds').queryName(\"counts\")\\\n",
    "                                    .format(\"memory\").outputMode(\"complete\")\\\n",
    "                                    .start()"
   ]
  },
  {
   "cell_type": "code",
   "execution_count": null,
   "metadata": {},
   "outputs": [],
   "source": [
    "# Looping through in the batch mode\n",
    "\n",
    "path = 'streaming'\n",
    "\n",
    "for i in range(len(files[1:11])):\n",
    "    \n",
    "    file = files[i]\n",
    "    \n",
    "    shutil.copy(file, 'InputStream') \n",
    "    sleep(1)\n",
    "    spark.sql(\"SELECT * FROM counts\").show()\n",
    "    sleep(10)"
   ]
  },
  {
   "cell_type": "code",
   "execution_count": null,
   "metadata": {},
   "outputs": [],
   "source": []
  }
 ],
 "metadata": {
  "kernelspec": {
   "display_name": "Python 3",
   "language": "python",
   "name": "python3"
  },
  "language_info": {
   "codemirror_mode": {
    "name": "ipython",
    "version": 3
   },
   "file_extension": ".py",
   "mimetype": "text/x-python",
   "name": "python",
   "nbconvert_exporter": "python",
   "pygments_lexer": "ipython3",
   "version": "3.6.5"
  }
 },
 "nbformat": 4,
 "nbformat_minor": 2
}
